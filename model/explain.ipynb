{
 "cells": [
  {
   "cell_type": "code",
   "execution_count": 14,
   "id": "502a8c45",
   "metadata": {},
   "outputs": [],
   "source": [
    "import dgl\n",
    "from model.model import gasa_classifier\n",
    "import torch\n",
    "from model.data import predict_collate, pred_data\n",
    "from torch.utils.data import DataLoader\n",
    "import os\n",
    "import numpy as np\n",
    "from model.gasa_utils import generate_graph\n",
    "from IPython.display import display, SVG\n",
    "from rdkit import Chem\n",
    "import matplotlib.cm as cm\n",
    "from rdkit.Chem import rdDepictor\n",
    "from rdkit.Chem.Draw import rdMolDraw2D"
   ]
  },
  {
   "cell_type": "code",
   "execution_count": 17,
   "id": "73f8614f",
   "metadata": {},
   "outputs": [],
   "source": [
    "def explain(smiles):\n",
    "    ls_smi = []\n",
    "    if isinstance(smiles, list):  \n",
    "        ls_smi = smiles\n",
    "    else:\n",
    "        ls_smi.append(smiles)\n",
    "    graph = generate_graph(ls_smi)\n",
    "    data = pred_data(graph=graph, smiles=ls_smi) \n",
    "    data_loader = DataLoader(data, batch_size=1, shuffle=False, collate_fn=predict_collate)\n",
    "    dataset = data_loader.dataset\n",
    "    model = gasa_classifier(dropout=0.1, num_heads=6, hidden_dim1=128, hidden_dim2=64, hidden_dim3=32)\n",
    "    path = os.getcwd()\n",
    "    pth = os.path.join(path, \"model/gasa.pth\")\n",
    "    checkpoint = torch.load(pth, map_location=torch.device('cpu'))\n",
    "    model.load_state_dict(checkpoint['model_state_dict'])\n",
    "    smiles, graph = dataset[0] \n",
    "    bg = dgl.batch([graph])\n",
    "    atom_weight = model(bg)[1]\n",
    "    atom_weights = atom_weight.cpu().detach().numpy()\n",
    "    ls = []\n",
    "    for i in list(range(0, len(atom_weights))):\n",
    "        ls.append(atom_weights[i][0])\n",
    "    min_value = min(ls)\n",
    "    max_value = max(ls)\n",
    "    weights = (ls - min_value) / (max_value - min_value)\n",
    "    mol = Chem.MolFromSmiles(smiles)\n",
    "    norm = cm.colors.Normalize(vmin=0, vmax=1.00)\n",
    "    cmap = cm.get_cmap('OrRd') \n",
    "    plt_colors = cm.ScalarMappable(norm=norm, cmap=cmap)\n",
    "    atom_colors = {i: plt_colors.to_rgba(weights[i]) for i in range(bg.number_of_nodes())}\n",
    "    rdDepictor.Compute2DCoords(mol)\n",
    "    dr = rdMolDraw2D.MolDraw2DSVG(400, 370)\n",
    "    do = rdMolDraw2D.MolDrawOptions()\n",
    "    do.bondLineWidth = 4\n",
    "    do.fixedBondLength = 30\n",
    "    do.highlightRadius = 4\n",
    "    dr.SetFontSize(1)\n",
    "    dr.drawOptions().addAtomIndices = True\n",
    "    mol = rdMolDraw2D.PrepareMolForDrawing(mol)\n",
    "    dr.DrawMolecule(mol, highlightAtoms=range(bg.number_of_nodes()),\n",
    "                        highlightBonds=[],\n",
    "                        highlightAtomColors=atom_colors)\n",
    "    dr.FinishDrawing()\n",
    "    svg = dr.GetDrawingText()\n",
    "    svg = svg.replace('svg:', '')\n",
    "    return svg"
   ]
  },
  {
   "cell_type": "code",
   "execution_count": 18,
   "id": "aa7cdc12",
   "metadata": {},
   "outputs": [
    {
     "data": {
      "image/svg+xml": [
       "<svg baseProfile=\"full\" height=\"370px\" version=\"1.1\" width=\"400px\" xml:space=\"preserve\" xmlns:rdkit=\"http://www.rdkit.org/xml\" xmlns:svg=\"http://www.w3.org/2000/svg\" xmlns:xlink=\"http://www.w3.org/1999/xlink\">\n",
       "<rect height=\"370\" style=\"opacity:1.0;fill:#FFFFFF;stroke:none\" width=\"400\" x=\"0\" y=\"0\"> </rect>\n",
       "<ellipse cx=\"381.818\" cy=\"120.873\" rx=\"16.4053\" ry=\"16.4053\" style=\"fill:#7F0000;fill-rule:evenodd;stroke:#7F0000;stroke-width:1px;stroke-linecap:butt;stroke-linejoin:miter;stroke-opacity:1\"/>\n",
       "<ellipse cx=\"329.939\" cy=\"153.937\" rx=\"16.4053\" ry=\"16.4053\" style=\"fill:#FC9661;fill-rule:evenodd;stroke:#FC9661;stroke-width:1px;stroke-linecap:butt;stroke-linejoin:miter;stroke-opacity:1\"/>\n",
       "<ellipse cx=\"275.365\" cy=\"125.541\" rx=\"16.4053\" ry=\"16.4053\" style=\"fill:#F98656;fill-rule:evenodd;stroke:#F98656;stroke-width:1px;stroke-linecap:butt;stroke-linejoin:miter;stroke-opacity:1\"/>\n",
       "<ellipse cx=\"266.26\" cy=\"64.6983\" rx=\"16.4053\" ry=\"16.4053\" style=\"fill:#7F0000;fill-rule:evenodd;stroke:#7F0000;stroke-width:1px;stroke-linecap:butt;stroke-linejoin:miter;stroke-opacity:1\"/>\n",
       "<ellipse cx=\"205.582\" cy=\"54.5562\" rx=\"16.4053\" ry=\"16.4053\" style=\"fill:#FC935F;fill-rule:evenodd;stroke:#FC935F;stroke-width:1px;stroke-linecap:butt;stroke-linejoin:miter;stroke-opacity:1\"/>\n",
       "<ellipse cx=\"177.185\" cy=\"109.131\" rx=\"16.4053\" ry=\"16.4053\" style=\"fill:#FDE6C5;fill-rule:evenodd;stroke:#FDE6C5;stroke-width:1px;stroke-linecap:butt;stroke-linejoin:miter;stroke-opacity:1\"/>\n",
       "<ellipse cx=\"220.314\" cy=\"153.001\" rx=\"16.4053\" ry=\"16.4053\" style=\"fill:#FDC48E;fill-rule:evenodd;stroke:#FDC48E;stroke-width:1px;stroke-linecap:butt;stroke-linejoin:miter;stroke-opacity:1\"/>\n",
       "<ellipse cx=\"203.884\" cy=\"212.287\" rx=\"16.4053\" ry=\"16.4053\" style=\"fill:#FCB37C;fill-rule:evenodd;stroke:#FCB37C;stroke-width:1px;stroke-linecap:butt;stroke-linejoin:miter;stroke-opacity:1\"/>\n",
       "<ellipse cx=\"247.013\" cy=\"256.158\" rx=\"16.4053\" ry=\"16.4053\" style=\"fill:#FDE0B8;fill-rule:evenodd;stroke:#FDE0B8;stroke-width:1px;stroke-linecap:butt;stroke-linejoin:miter;stroke-opacity:1\"/>\n",
       "<ellipse cx=\"230.583\" cy=\"315.444\" rx=\"16.4053\" ry=\"16.4053\" style=\"fill:#8A0000;fill-rule:evenodd;stroke:#8A0000;stroke-width:1px;stroke-linecap:butt;stroke-linejoin:miter;stroke-opacity:1\"/>\n",
       "<ellipse cx=\"144.327\" cy=\"227.702\" rx=\"16.4053\" ry=\"16.4053\" style=\"fill:#FC9D68;fill-rule:evenodd;stroke:#FC9D68;stroke-width:1px;stroke-linecap:butt;stroke-linejoin:miter;stroke-opacity:1\"/>\n",
       "<ellipse cx=\"101.199\" cy=\"183.831\" rx=\"16.4053\" ry=\"16.4053\" style=\"fill:#FDCD97;fill-rule:evenodd;stroke:#FDCD97;stroke-width:1px;stroke-linecap:butt;stroke-linejoin:miter;stroke-opacity:1\"/>\n",
       "<ellipse cx=\"39.7376\" cy=\"186.526\" rx=\"16.4053\" ry=\"16.4053\" style=\"fill:#970000;fill-rule:evenodd;stroke:#970000;stroke-width:1px;stroke-linecap:butt;stroke-linejoin:miter;stroke-opacity:1\"/>\n",
       "<ellipse cx=\"18.1818\" cy=\"128.906\" rx=\"16.4053\" ry=\"16.4053\" style=\"fill:#FC9964;fill-rule:evenodd;stroke:#FC9964;stroke-width:1px;stroke-linecap:butt;stroke-linejoin:miter;stroke-opacity:1\"/>\n",
       "<ellipse cx=\"66.3206\" cy=\"90.5999\" rx=\"16.4053\" ry=\"16.4053\" style=\"fill:#950000;fill-rule:evenodd;stroke:#950000;stroke-width:1px;stroke-linecap:butt;stroke-linejoin:miter;stroke-opacity:1\"/>\n",
       "<ellipse cx=\"117.628\" cy=\"124.545\" rx=\"16.4053\" ry=\"16.4053\" style=\"fill:#FFF7EC;fill-rule:evenodd;stroke:#FFF7EC;stroke-width:1px;stroke-linecap:butt;stroke-linejoin:miter;stroke-opacity:1\"/>\n",
       "<path d=\"M 381.818,120.873 329.939,153.937\" style=\"fill:none;fill-rule:evenodd;stroke:#000000;stroke-width:2px;stroke-linecap:butt;stroke-linejoin:miter;stroke-opacity:1\"/>\n",
       "<path d=\"M 329.939,153.937 275.365,125.541\" style=\"fill:none;fill-rule:evenodd;stroke:#000000;stroke-width:2px;stroke-linecap:butt;stroke-linejoin:miter;stroke-opacity:1\"/>\n",
       "<path d=\"M 275.365,125.541 271.935,102.62\" style=\"fill:none;fill-rule:evenodd;stroke:#000000;stroke-width:2px;stroke-linecap:butt;stroke-linejoin:miter;stroke-opacity:1\"/>\n",
       "<path d=\"M 271.935,102.62 268.505,79.6983\" style=\"fill:none;fill-rule:evenodd;stroke:#0000FF;stroke-width:2px;stroke-linecap:butt;stroke-linejoin:miter;stroke-opacity:1\"/>\n",
       "<path d=\"M 275.365,125.541 220.314,153.001\" style=\"fill:none;fill-rule:evenodd;stroke:#000000;stroke-width:2px;stroke-linecap:butt;stroke-linejoin:miter;stroke-opacity:1\"/>\n",
       "<path d=\"M 261.615,118.65 223.079,137.872\" style=\"fill:none;fill-rule:evenodd;stroke:#000000;stroke-width:2px;stroke-linecap:butt;stroke-linejoin:miter;stroke-opacity:1\"/>\n",
       "<path d=\"M 240.257,60.3521 222.92,57.4542\" style=\"fill:none;fill-rule:evenodd;stroke:#0000FF;stroke-width:2px;stroke-linecap:butt;stroke-linejoin:miter;stroke-opacity:1\"/>\n",
       "<path d=\"M 222.92,57.4542 205.582,54.5562\" style=\"fill:none;fill-rule:evenodd;stroke:#000000;stroke-width:2px;stroke-linecap:butt;stroke-linejoin:miter;stroke-opacity:1\"/>\n",
       "<path d=\"M 205.582,54.5562 177.185,109.131\" style=\"fill:none;fill-rule:evenodd;stroke:#000000;stroke-width:2px;stroke-linecap:butt;stroke-linejoin:miter;stroke-opacity:1\"/>\n",
       "<path d=\"M 212.237,68.4216 192.36,106.624\" style=\"fill:none;fill-rule:evenodd;stroke:#000000;stroke-width:2px;stroke-linecap:butt;stroke-linejoin:miter;stroke-opacity:1\"/>\n",
       "<path d=\"M 177.185,109.131 220.314,153.001\" style=\"fill:none;fill-rule:evenodd;stroke:#000000;stroke-width:2px;stroke-linecap:butt;stroke-linejoin:miter;stroke-opacity:1\"/>\n",
       "<path d=\"M 177.185,109.131 117.628,124.545\" style=\"fill:none;fill-rule:evenodd;stroke:#000000;stroke-width:2px;stroke-linecap:butt;stroke-linejoin:miter;stroke-opacity:1\"/>\n",
       "<path d=\"M 220.314,153.001 203.884,212.287\" style=\"fill:none;fill-rule:evenodd;stroke:#000000;stroke-width:2px;stroke-linecap:butt;stroke-linejoin:miter;stroke-opacity:1\"/>\n",
       "<path d=\"M 203.884,212.287 247.013,256.158\" style=\"fill:none;fill-rule:evenodd;stroke:#000000;stroke-width:2px;stroke-linecap:butt;stroke-linejoin:miter;stroke-opacity:1\"/>\n",
       "<path d=\"M 203.884,212.287 144.327,227.702\" style=\"fill:none;fill-rule:evenodd;stroke:#000000;stroke-width:2px;stroke-linecap:butt;stroke-linejoin:miter;stroke-opacity:1\"/>\n",
       "<path d=\"M 191.868,202.688 150.178,213.478\" style=\"fill:none;fill-rule:evenodd;stroke:#000000;stroke-width:2px;stroke-linecap:butt;stroke-linejoin:miter;stroke-opacity:1\"/>\n",
       "<path d=\"M 247.013,256.158 240.876,278.301\" style=\"fill:none;fill-rule:evenodd;stroke:#000000;stroke-width:2px;stroke-linecap:butt;stroke-linejoin:miter;stroke-opacity:1\"/>\n",
       "<path d=\"M 240.876,278.301 234.74,300.444\" style=\"fill:none;fill-rule:evenodd;stroke:#FF0000;stroke-width:2px;stroke-linecap:butt;stroke-linejoin:miter;stroke-opacity:1\"/>\n",
       "<path d=\"M 144.327,227.702 101.199,183.831\" style=\"fill:none;fill-rule:evenodd;stroke:#000000;stroke-width:2px;stroke-linecap:butt;stroke-linejoin:miter;stroke-opacity:1\"/>\n",
       "<path d=\"M 101.199,183.831 76.9686,184.893\" style=\"fill:none;fill-rule:evenodd;stroke:#000000;stroke-width:2px;stroke-linecap:butt;stroke-linejoin:miter;stroke-opacity:1\"/>\n",
       "<path d=\"M 76.9686,184.893 52.7388,185.956\" style=\"fill:none;fill-rule:evenodd;stroke:#0000FF;stroke-width:2px;stroke-linecap:butt;stroke-linejoin:miter;stroke-opacity:1\"/>\n",
       "<path d=\"M 101.199,183.831 117.628,124.545\" style=\"fill:none;fill-rule:evenodd;stroke:#000000;stroke-width:2px;stroke-linecap:butt;stroke-linejoin:miter;stroke-opacity:1\"/>\n",
       "<path d=\"M 91.8058,171.652 103.306,130.152\" style=\"fill:none;fill-rule:evenodd;stroke:#000000;stroke-width:2px;stroke-linecap:butt;stroke-linejoin:miter;stroke-opacity:1\"/>\n",
       "<path d=\"M 34.126,171.526 26.1539,150.216\" style=\"fill:none;fill-rule:evenodd;stroke:#0000FF;stroke-width:2px;stroke-linecap:butt;stroke-linejoin:miter;stroke-opacity:1\"/>\n",
       "<path d=\"M 26.1539,150.216 18.1818,128.906\" style=\"fill:none;fill-rule:evenodd;stroke:#000000;stroke-width:2px;stroke-linecap:butt;stroke-linejoin:miter;stroke-opacity:1\"/>\n",
       "<path d=\"M 43.2584,160.822 37.6779,145.905\" style=\"fill:none;fill-rule:evenodd;stroke:#0000FF;stroke-width:2px;stroke-linecap:butt;stroke-linejoin:miter;stroke-opacity:1\"/>\n",
       "<path d=\"M 37.6779,145.905 32.0974,130.988\" style=\"fill:none;fill-rule:evenodd;stroke:#000000;stroke-width:2px;stroke-linecap:butt;stroke-linejoin:miter;stroke-opacity:1\"/>\n",
       "<path d=\"M 18.1818,128.906 32.8261,117.253\" style=\"fill:none;fill-rule:evenodd;stroke:#000000;stroke-width:2px;stroke-linecap:butt;stroke-linejoin:miter;stroke-opacity:1\"/>\n",
       "<path d=\"M 32.8261,117.253 47.4704,105.6\" style=\"fill:none;fill-rule:evenodd;stroke:#0000FF;stroke-width:2px;stroke-linecap:butt;stroke-linejoin:miter;stroke-opacity:1\"/>\n",
       "<path d=\"M 88.9925,105.6 103.31,115.073\" style=\"fill:none;fill-rule:evenodd;stroke:#0000FF;stroke-width:2px;stroke-linecap:butt;stroke-linejoin:miter;stroke-opacity:1\"/>\n",
       "<path d=\"M 103.31,115.073 117.628,124.545\" style=\"fill:none;fill-rule:evenodd;stroke:#000000;stroke-width:2px;stroke-linecap:butt;stroke-linejoin:miter;stroke-opacity:1\"/>\n",
       "<text style=\"font-size:30px;font-style:normal;font-weight:normal;fill-opacity:1;stroke:none;font-family:sans-serif;text-anchor:start;fill:#0000FF\" x=\"240.257\" y=\"79.6983\"><tspan>NH</tspan></text>\n",
       "<text style=\"font-size:30px;font-style:normal;font-weight:normal;fill-opacity:1;stroke:none;font-family:sans-serif;text-anchor:start;fill:#FF0000\" x=\"203.573\" y=\"330.444\"><tspan>OH</tspan></text>\n",
       "<text style=\"font-size:30px;font-style:normal;font-weight:normal;fill-opacity:1;stroke:none;font-family:sans-serif;text-anchor:start;fill:#0000FF\" x=\"26.7364\" y=\"201.526\"><tspan>N</tspan></text>\n",
       "<text style=\"font-size:30px;font-style:normal;font-weight:normal;fill-opacity:1;stroke:none;font-family:sans-serif;text-anchor:start;fill:#0000FF\" x=\"40.3182\" y=\"105.6\"><tspan>NH</tspan></text>\n",
       "</svg>"
      ],
      "text/plain": [
       "<IPython.core.display.SVG object>"
      ]
     },
     "metadata": {},
     "output_type": "display_data"
    }
   ],
   "source": [
    "smiles = 'CCc1[nH]cc2c1c(CO)cc1nc[nH]c12'\n",
    "svg = explain(smiles)\n",
    "display(SVG(svg))"
   ]
  },
  {
   "cell_type": "code",
   "execution_count": null,
   "id": "430e616b",
   "metadata": {},
   "outputs": [],
   "source": []
  }
 ],
 "metadata": {
  "kernelspec": {
   "display_name": "Python 3",
   "language": "python",
   "name": "python3"
  },
  "language_info": {
   "codemirror_mode": {
    "name": "ipython",
    "version": 3
   },
   "file_extension": ".py",
   "mimetype": "text/x-python",
   "name": "python",
   "nbconvert_exporter": "python",
   "pygments_lexer": "ipython3",
   "version": "3.6.11"
  }
 },
 "nbformat": 4,
 "nbformat_minor": 5
}
